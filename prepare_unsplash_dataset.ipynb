{
  "nbformat": 4,
  "nbformat_minor": 0,
  "metadata": {
    "colab": {
      "provenance": []
    },
    "kernelspec": {
      "name": "python3",
      "display_name": "Python 3"
    },
    "language_info": {
      "name": "python"
    }
  },
  "cells": [
    {
      "cell_type": "code",
      "execution_count": 47,
      "metadata": {
        "id": "LY_2I_Bj6iSU"
      },
      "outputs": [],
      "source": [
        "#import libraries\n",
        "import numpy as np\n",
        "import pandas as pd\n",
        "import glob\n",
        "import matplotlib.pyplot as plt\n",
        "import requests\n",
        "\n",
        "from io import BytesIO\n",
        "from matplotlib import image as mpimg\n",
        "from PIL import Image\n",
        "from IPython.display import Image\n",
        "from IPython.core.display import HTML"
      ]
    },
    {
      "cell_type": "code",
      "source": [
        "from pathlib import Path\n",
        "unsplash_dataset_path = Path(\"/content/drive/My Drive/unsplash-dataset/curated-data\")\n",
        "\n",
        "photos_df = pd.read_csv(unsplash_dataset_path / \"unsplash-custom-metadata.tsv\", sep='\\t', header=0)\n",
        "photos_df.head()"
      ],
      "metadata": {
        "colab": {
          "base_uri": "https://localhost:8080/",
          "height": 313
        },
        "id": "GatOhSfPBTdf",
        "outputId": "42e5aaf6-683c-4bb0-d58c-6c611ccf86fe"
      },
      "execution_count": 33,
      "outputs": [
        {
          "output_type": "execute_result",
          "data": {
            "text/plain": [
              "      photo_id                                photo_url  \\\n",
              "0  wud-eV6Vpwo  https://unsplash.com/photos/wud-eV6Vpwo   \n",
              "1  psIMdj26lgw  https://unsplash.com/photos/psIMdj26lgw   \n",
              "2  2EDjes2hlZo  https://unsplash.com/photos/2EDjes2hlZo   \n",
              "3  WN8kSLy8KMQ  https://unsplash.com/photos/WN8kSLy8KMQ   \n",
              "4  QAXDmkU60OU  https://unsplash.com/photos/QAXDmkU60OU   \n",
              "\n",
              "                                     photo_image_url  photo_width  \\\n",
              "0  https://images.unsplash.com/photo-143924685475...         4273   \n",
              "1  https://images.unsplash.com/photo-144077331099...         3872   \n",
              "2  https://images.unsplash.com/photo-144683489809...         2560   \n",
              "3  https://images.unsplash.com/photo-144530812443...         2288   \n",
              "4  https://images.unsplash.com/photo-144196149785...         2048   \n",
              "\n",
              "   photo_height             photo_description photographer_first_name  \\\n",
              "0          2392                           NaN                  Sérgio   \n",
              "1          2176                           NaN                    Alec   \n",
              "2          1707  Sunset reflection over river                   Thinh   \n",
              "3          1520          Hiking The Mountains                    Zach   \n",
              "4          1371                           NaN                  Jeremy   \n",
              "\n",
              "  photographer_last_name  \n",
              "0                   Rola  \n",
              "1                   Weir  \n",
              "2                     Vu  \n",
              "3                 Betten  \n",
              "4                    Cai  "
            ],
            "text/html": [
              "\n",
              "  <div id=\"df-6f93673d-162f-4549-aa9e-ea3f7e7ef82e\" class=\"colab-df-container\">\n",
              "    <div>\n",
              "<style scoped>\n",
              "    .dataframe tbody tr th:only-of-type {\n",
              "        vertical-align: middle;\n",
              "    }\n",
              "\n",
              "    .dataframe tbody tr th {\n",
              "        vertical-align: top;\n",
              "    }\n",
              "\n",
              "    .dataframe thead th {\n",
              "        text-align: right;\n",
              "    }\n",
              "</style>\n",
              "<table border=\"1\" class=\"dataframe\">\n",
              "  <thead>\n",
              "    <tr style=\"text-align: right;\">\n",
              "      <th></th>\n",
              "      <th>photo_id</th>\n",
              "      <th>photo_url</th>\n",
              "      <th>photo_image_url</th>\n",
              "      <th>photo_width</th>\n",
              "      <th>photo_height</th>\n",
              "      <th>photo_description</th>\n",
              "      <th>photographer_first_name</th>\n",
              "      <th>photographer_last_name</th>\n",
              "    </tr>\n",
              "  </thead>\n",
              "  <tbody>\n",
              "    <tr>\n",
              "      <th>0</th>\n",
              "      <td>wud-eV6Vpwo</td>\n",
              "      <td>https://unsplash.com/photos/wud-eV6Vpwo</td>\n",
              "      <td>https://images.unsplash.com/photo-143924685475...</td>\n",
              "      <td>4273</td>\n",
              "      <td>2392</td>\n",
              "      <td>NaN</td>\n",
              "      <td>Sérgio</td>\n",
              "      <td>Rola</td>\n",
              "    </tr>\n",
              "    <tr>\n",
              "      <th>1</th>\n",
              "      <td>psIMdj26lgw</td>\n",
              "      <td>https://unsplash.com/photos/psIMdj26lgw</td>\n",
              "      <td>https://images.unsplash.com/photo-144077331099...</td>\n",
              "      <td>3872</td>\n",
              "      <td>2176</td>\n",
              "      <td>NaN</td>\n",
              "      <td>Alec</td>\n",
              "      <td>Weir</td>\n",
              "    </tr>\n",
              "    <tr>\n",
              "      <th>2</th>\n",
              "      <td>2EDjes2hlZo</td>\n",
              "      <td>https://unsplash.com/photos/2EDjes2hlZo</td>\n",
              "      <td>https://images.unsplash.com/photo-144683489809...</td>\n",
              "      <td>2560</td>\n",
              "      <td>1707</td>\n",
              "      <td>Sunset reflection over river</td>\n",
              "      <td>Thinh</td>\n",
              "      <td>Vu</td>\n",
              "    </tr>\n",
              "    <tr>\n",
              "      <th>3</th>\n",
              "      <td>WN8kSLy8KMQ</td>\n",
              "      <td>https://unsplash.com/photos/WN8kSLy8KMQ</td>\n",
              "      <td>https://images.unsplash.com/photo-144530812443...</td>\n",
              "      <td>2288</td>\n",
              "      <td>1520</td>\n",
              "      <td>Hiking The Mountains</td>\n",
              "      <td>Zach</td>\n",
              "      <td>Betten</td>\n",
              "    </tr>\n",
              "    <tr>\n",
              "      <th>4</th>\n",
              "      <td>QAXDmkU60OU</td>\n",
              "      <td>https://unsplash.com/photos/QAXDmkU60OU</td>\n",
              "      <td>https://images.unsplash.com/photo-144196149785...</td>\n",
              "      <td>2048</td>\n",
              "      <td>1371</td>\n",
              "      <td>NaN</td>\n",
              "      <td>Jeremy</td>\n",
              "      <td>Cai</td>\n",
              "    </tr>\n",
              "  </tbody>\n",
              "</table>\n",
              "</div>\n",
              "    <div class=\"colab-df-buttons\">\n",
              "\n",
              "  <div class=\"colab-df-container\">\n",
              "    <button class=\"colab-df-convert\" onclick=\"convertToInteractive('df-6f93673d-162f-4549-aa9e-ea3f7e7ef82e')\"\n",
              "            title=\"Convert this dataframe to an interactive table.\"\n",
              "            style=\"display:none;\">\n",
              "\n",
              "  <svg xmlns=\"http://www.w3.org/2000/svg\" height=\"24px\" viewBox=\"0 -960 960 960\">\n",
              "    <path d=\"M120-120v-720h720v720H120Zm60-500h600v-160H180v160Zm220 220h160v-160H400v160Zm0 220h160v-160H400v160ZM180-400h160v-160H180v160Zm440 0h160v-160H620v160ZM180-180h160v-160H180v160Zm440 0h160v-160H620v160Z\"/>\n",
              "  </svg>\n",
              "    </button>\n",
              "\n",
              "  <style>\n",
              "    .colab-df-container {\n",
              "      display:flex;\n",
              "      gap: 12px;\n",
              "    }\n",
              "\n",
              "    .colab-df-convert {\n",
              "      background-color: #E8F0FE;\n",
              "      border: none;\n",
              "      border-radius: 50%;\n",
              "      cursor: pointer;\n",
              "      display: none;\n",
              "      fill: #1967D2;\n",
              "      height: 32px;\n",
              "      padding: 0 0 0 0;\n",
              "      width: 32px;\n",
              "    }\n",
              "\n",
              "    .colab-df-convert:hover {\n",
              "      background-color: #E2EBFA;\n",
              "      box-shadow: 0px 1px 2px rgba(60, 64, 67, 0.3), 0px 1px 3px 1px rgba(60, 64, 67, 0.15);\n",
              "      fill: #174EA6;\n",
              "    }\n",
              "\n",
              "    .colab-df-buttons div {\n",
              "      margin-bottom: 4px;\n",
              "    }\n",
              "\n",
              "    [theme=dark] .colab-df-convert {\n",
              "      background-color: #3B4455;\n",
              "      fill: #D2E3FC;\n",
              "    }\n",
              "\n",
              "    [theme=dark] .colab-df-convert:hover {\n",
              "      background-color: #434B5C;\n",
              "      box-shadow: 0px 1px 3px 1px rgba(0, 0, 0, 0.15);\n",
              "      filter: drop-shadow(0px 1px 2px rgba(0, 0, 0, 0.3));\n",
              "      fill: #FFFFFF;\n",
              "    }\n",
              "  </style>\n",
              "\n",
              "    <script>\n",
              "      const buttonEl =\n",
              "        document.querySelector('#df-6f93673d-162f-4549-aa9e-ea3f7e7ef82e button.colab-df-convert');\n",
              "      buttonEl.style.display =\n",
              "        google.colab.kernel.accessAllowed ? 'block' : 'none';\n",
              "\n",
              "      async function convertToInteractive(key) {\n",
              "        const element = document.querySelector('#df-6f93673d-162f-4549-aa9e-ea3f7e7ef82e');\n",
              "        const dataTable =\n",
              "          await google.colab.kernel.invokeFunction('convertToInteractive',\n",
              "                                                    [key], {});\n",
              "        if (!dataTable) return;\n",
              "\n",
              "        const docLinkHtml = 'Like what you see? Visit the ' +\n",
              "          '<a target=\"_blank\" href=https://colab.research.google.com/notebooks/data_table.ipynb>data table notebook</a>'\n",
              "          + ' to learn more about interactive tables.';\n",
              "        element.innerHTML = '';\n",
              "        dataTable['output_type'] = 'display_data';\n",
              "        await google.colab.output.renderOutput(dataTable, element);\n",
              "        const docLink = document.createElement('div');\n",
              "        docLink.innerHTML = docLinkHtml;\n",
              "        element.appendChild(docLink);\n",
              "      }\n",
              "    </script>\n",
              "  </div>\n",
              "\n",
              "\n",
              "<div id=\"df-ef26fbc6-90e5-49b0-be95-9d79a0709110\">\n",
              "  <button class=\"colab-df-quickchart\" onclick=\"quickchart('df-ef26fbc6-90e5-49b0-be95-9d79a0709110')\"\n",
              "            title=\"Suggest charts\"\n",
              "            style=\"display:none;\">\n",
              "\n",
              "<svg xmlns=\"http://www.w3.org/2000/svg\" height=\"24px\"viewBox=\"0 0 24 24\"\n",
              "     width=\"24px\">\n",
              "    <g>\n",
              "        <path d=\"M19 3H5c-1.1 0-2 .9-2 2v14c0 1.1.9 2 2 2h14c1.1 0 2-.9 2-2V5c0-1.1-.9-2-2-2zM9 17H7v-7h2v7zm4 0h-2V7h2v10zm4 0h-2v-4h2v4z\"/>\n",
              "    </g>\n",
              "</svg>\n",
              "  </button>\n",
              "\n",
              "<style>\n",
              "  .colab-df-quickchart {\n",
              "      --bg-color: #E8F0FE;\n",
              "      --fill-color: #1967D2;\n",
              "      --hover-bg-color: #E2EBFA;\n",
              "      --hover-fill-color: #174EA6;\n",
              "      --disabled-fill-color: #AAA;\n",
              "      --disabled-bg-color: #DDD;\n",
              "  }\n",
              "\n",
              "  [theme=dark] .colab-df-quickchart {\n",
              "      --bg-color: #3B4455;\n",
              "      --fill-color: #D2E3FC;\n",
              "      --hover-bg-color: #434B5C;\n",
              "      --hover-fill-color: #FFFFFF;\n",
              "      --disabled-bg-color: #3B4455;\n",
              "      --disabled-fill-color: #666;\n",
              "  }\n",
              "\n",
              "  .colab-df-quickchart {\n",
              "    background-color: var(--bg-color);\n",
              "    border: none;\n",
              "    border-radius: 50%;\n",
              "    cursor: pointer;\n",
              "    display: none;\n",
              "    fill: var(--fill-color);\n",
              "    height: 32px;\n",
              "    padding: 0;\n",
              "    width: 32px;\n",
              "  }\n",
              "\n",
              "  .colab-df-quickchart:hover {\n",
              "    background-color: var(--hover-bg-color);\n",
              "    box-shadow: 0 1px 2px rgba(60, 64, 67, 0.3), 0 1px 3px 1px rgba(60, 64, 67, 0.15);\n",
              "    fill: var(--button-hover-fill-color);\n",
              "  }\n",
              "\n",
              "  .colab-df-quickchart-complete:disabled,\n",
              "  .colab-df-quickchart-complete:disabled:hover {\n",
              "    background-color: var(--disabled-bg-color);\n",
              "    fill: var(--disabled-fill-color);\n",
              "    box-shadow: none;\n",
              "  }\n",
              "\n",
              "  .colab-df-spinner {\n",
              "    border: 2px solid var(--fill-color);\n",
              "    border-color: transparent;\n",
              "    border-bottom-color: var(--fill-color);\n",
              "    animation:\n",
              "      spin 1s steps(1) infinite;\n",
              "  }\n",
              "\n",
              "  @keyframes spin {\n",
              "    0% {\n",
              "      border-color: transparent;\n",
              "      border-bottom-color: var(--fill-color);\n",
              "      border-left-color: var(--fill-color);\n",
              "    }\n",
              "    20% {\n",
              "      border-color: transparent;\n",
              "      border-left-color: var(--fill-color);\n",
              "      border-top-color: var(--fill-color);\n",
              "    }\n",
              "    30% {\n",
              "      border-color: transparent;\n",
              "      border-left-color: var(--fill-color);\n",
              "      border-top-color: var(--fill-color);\n",
              "      border-right-color: var(--fill-color);\n",
              "    }\n",
              "    40% {\n",
              "      border-color: transparent;\n",
              "      border-right-color: var(--fill-color);\n",
              "      border-top-color: var(--fill-color);\n",
              "    }\n",
              "    60% {\n",
              "      border-color: transparent;\n",
              "      border-right-color: var(--fill-color);\n",
              "    }\n",
              "    80% {\n",
              "      border-color: transparent;\n",
              "      border-right-color: var(--fill-color);\n",
              "      border-bottom-color: var(--fill-color);\n",
              "    }\n",
              "    90% {\n",
              "      border-color: transparent;\n",
              "      border-bottom-color: var(--fill-color);\n",
              "    }\n",
              "  }\n",
              "</style>\n",
              "\n",
              "  <script>\n",
              "    async function quickchart(key) {\n",
              "      const quickchartButtonEl =\n",
              "        document.querySelector('#' + key + ' button');\n",
              "      quickchartButtonEl.disabled = true;  // To prevent multiple clicks.\n",
              "      quickchartButtonEl.classList.add('colab-df-spinner');\n",
              "      try {\n",
              "        const charts = await google.colab.kernel.invokeFunction(\n",
              "            'suggestCharts', [key], {});\n",
              "      } catch (error) {\n",
              "        console.error('Error during call to suggestCharts:', error);\n",
              "      }\n",
              "      quickchartButtonEl.classList.remove('colab-df-spinner');\n",
              "      quickchartButtonEl.classList.add('colab-df-quickchart-complete');\n",
              "    }\n",
              "    (() => {\n",
              "      let quickchartButtonEl =\n",
              "        document.querySelector('#df-ef26fbc6-90e5-49b0-be95-9d79a0709110 button');\n",
              "      quickchartButtonEl.style.display =\n",
              "        google.colab.kernel.accessAllowed ? 'block' : 'none';\n",
              "    })();\n",
              "  </script>\n",
              "</div>\n",
              "    </div>\n",
              "  </div>\n"
            ]
          },
          "metadata": {},
          "execution_count": 33
        }
      ]
    },
    {
      "cell_type": "code",
      "source": [
        "# photos_df[['photo_image_url']][:1].to_string()"
      ],
      "metadata": {
        "id": "z0k_RSGgKCvb"
      },
      "execution_count": 62,
      "outputs": []
    },
    {
      "cell_type": "code",
      "source": [
        "photos_df.columns.tolist()"
      ],
      "metadata": {
        "colab": {
          "base_uri": "https://localhost:8080/"
        },
        "id": "y9ZerRFoC-iK",
        "outputId": "327f8eb0-2438-43d2-ed42-e8ad27b9dd67"
      },
      "execution_count": 34,
      "outputs": [
        {
          "output_type": "execute_result",
          "data": {
            "text/plain": [
              "['photo_id',\n",
              " 'photo_url',\n",
              " 'photo_image_url',\n",
              " 'photo_width',\n",
              " 'photo_height',\n",
              " 'photo_description',\n",
              " 'photographer_first_name',\n",
              " 'photographer_last_name']"
            ]
          },
          "metadata": {},
          "execution_count": 34
        }
      ]
    },
    {
      "cell_type": "code",
      "source": [
        "photos_df.shape"
      ],
      "metadata": {
        "colab": {
          "base_uri": "https://localhost:8080/"
        },
        "id": "7z7jYfDTDCdI",
        "outputId": "439f1647-8aeb-4b27-998d-dae36112ce9d"
      },
      "execution_count": 35,
      "outputs": [
        {
          "output_type": "execute_result",
          "data": {
            "text/plain": [
              "(1000, 8)"
            ]
          },
          "metadata": {},
          "execution_count": 35
        }
      ]
    },
    {
      "cell_type": "code",
      "source": [
        "#intial metadata exploration\n",
        "\n",
        "# Extract the IDs and the URLs of the photos\n",
        "photo_urls = photos_df[['photo_id', 'photo_image_url']].values.tolist()\n",
        "\n",
        "# Print some statistics\n",
        "print(f'Photos in the dataset: {len(photo_urls)}')\n",
        "print((photo_urls)[:20])"
      ],
      "metadata": {
        "colab": {
          "base_uri": "https://localhost:8080/"
        },
        "id": "xm3SjKl__gI3",
        "outputId": "25b1d396-ca47-4062-eef6-1ae8f6d79cd0"
      },
      "execution_count": 36,
      "outputs": [
        {
          "output_type": "stream",
          "name": "stdout",
          "text": [
            "Photos in the dataset: 1000\n",
            "[['wud-eV6Vpwo', 'https://images.unsplash.com/photo-1439246854758-f686a415d9da'], ['psIMdj26lgw', 'https://images.unsplash.com/photo-1440773310993-8660d1577dcd'], ['2EDjes2hlZo', 'https://images.unsplash.com/photo-1446834898093-264bbb1bdcc9'], ['WN8kSLy8KMQ', 'https://images.unsplash.com/photo-1445308124430-8357b98a6f71'], ['QAXDmkU60OU', 'https://images.unsplash.com/photo-1441961497852-89a16db29005'], ['9myQkSVGooM', 'https://images.unsplash.com/photo-1442095962062-cc576a28f7ef'], ['5kSVDnCVLDg', 'https://images.unsplash.com/photo-1421990535576-b336c6b1c8a1'], ['bzzGg63bzAM', 'https://images.unsplash.com/photo-1442943861491-36a87a01e726'], ['ZSMgNjYrHRM', 'https://images.unsplash.com/photo-1430132594682-16e1185b17c5'], ['gSF9dHUVK_Y', 'https://images.unsplash.com/photo-1439853849133-aaf5b7b5f55b'], ['oXUEUEVJgec', 'https://images.unsplash.com/photo-1440942574812-185bf7cf6c49'], ['aeUAfC92R-0', 'https://images.unsplash.com/photo-1438185074000-4b84f7ffc075'], ['wuHPFRWtDLI', 'https://images.unsplash.com/26/australia.jpg'], ['8fO08ukB24U', 'https://images.unsplash.com/photo-1448713551278-27e64beaa3fd'], ['NA0jD1Sg9WU', 'https://images.unsplash.com/photo-1438129501245-af64ca2b270a'], ['vCKl84jpaZM', 'https://images.unsplash.com/photo-1419293667059-7f9357d09013'], ['uKDn4RVsgFY', 'https://images.unsplash.com/photo-1451272994275-50b182fb2c70'], ['if5drRE4OM0', 'https://images.unsplash.com/photo-1452480306336-ffdc85b78768'], ['vVBRCRCWkbA', 'https://images.unsplash.com/photo-1433763484842-f9bca4a5b93f'], ['giwAx_VavaI', 'https://images.unsplash.com/photo-1429552016556-fd6f7d9743e1']]\n"
          ]
        }
      ]
    },
    {
      "cell_type": "code",
      "source": [],
      "metadata": {
        "id": "OT-ax250JgU4"
      },
      "execution_count": null,
      "outputs": []
    },
    {
      "cell_type": "code",
      "source": [
        "subset_photo_url = photo_urls[:10]\n",
        "for i in subset_photo_url:\n",
        "    photo_id = i[0]\n",
        "    # print(photo_id)\n",
        "\n",
        "    # Get all metadata for this photo\n",
        "    photo_data = photos_df[photos_df[\"photo_id\"] == photo_id].iloc[0]\n",
        "\n",
        "    # Display the photo\n",
        "    display(Image(url=photo_data[\"photo_image_url\"] + \"?w=640\"))\n",
        "\n",
        "    # Display the attribution text\n",
        "    display(HTML(f'Photo by <a href=\"https://unsplash.com/@{photo_data[\"photo_description\"]}?utm_source=NaturalLanguageImageSearch&utm_medium=referral\">{photo_data[\"photographer_first_name\"]} {photo_data[\"photographer_last_name\"]}</a> on <a href=\"https://unsplash.com/?utm_source=NaturalLanguageImageSearch&utm_medium=referral\">Unsplash</a>'))\n",
        "    print()"
      ],
      "metadata": {
        "colab": {
          "base_uri": "https://localhost:8080/",
          "height": 1000
        },
        "id": "dBJ8A0c8EZdQ",
        "outputId": "c113de85-aaa3-477d-dedc-9bcb519e3404"
      },
      "execution_count": 65,
      "outputs": [
        {
          "output_type": "display_data",
          "data": {
            "text/html": [
              "<img src=\"https://images.unsplash.com/photo-1439246854758-f686a415d9da?w=640\"/>"
            ],
            "text/plain": [
              "<IPython.core.display.Image object>"
            ]
          },
          "metadata": {}
        },
        {
          "output_type": "display_data",
          "data": {
            "text/plain": [
              "<IPython.core.display.HTML object>"
            ],
            "text/html": [
              "Photo by <a href=\"https://unsplash.com/@nan?utm_source=NaturalLanguageImageSearch&utm_medium=referral\">Sérgio Rola</a> on <a href=\"https://unsplash.com/?utm_source=NaturalLanguageImageSearch&utm_medium=referral\">Unsplash</a>"
            ]
          },
          "metadata": {}
        },
        {
          "output_type": "stream",
          "name": "stdout",
          "text": [
            "\n"
          ]
        },
        {
          "output_type": "display_data",
          "data": {
            "text/html": [
              "<img src=\"https://images.unsplash.com/photo-1440773310993-8660d1577dcd?w=640\"/>"
            ],
            "text/plain": [
              "<IPython.core.display.Image object>"
            ]
          },
          "metadata": {}
        },
        {
          "output_type": "display_data",
          "data": {
            "text/plain": [
              "<IPython.core.display.HTML object>"
            ],
            "text/html": [
              "Photo by <a href=\"https://unsplash.com/@nan?utm_source=NaturalLanguageImageSearch&utm_medium=referral\">Alec Weir</a> on <a href=\"https://unsplash.com/?utm_source=NaturalLanguageImageSearch&utm_medium=referral\">Unsplash</a>"
            ]
          },
          "metadata": {}
        },
        {
          "output_type": "stream",
          "name": "stdout",
          "text": [
            "\n"
          ]
        },
        {
          "output_type": "display_data",
          "data": {
            "text/html": [
              "<img src=\"https://images.unsplash.com/photo-1446834898093-264bbb1bdcc9?w=640\"/>"
            ],
            "text/plain": [
              "<IPython.core.display.Image object>"
            ]
          },
          "metadata": {}
        },
        {
          "output_type": "display_data",
          "data": {
            "text/plain": [
              "<IPython.core.display.HTML object>"
            ],
            "text/html": [
              "Photo by <a href=\"https://unsplash.com/@Sunset reflection over river?utm_source=NaturalLanguageImageSearch&utm_medium=referral\">Thinh Vu</a> on <a href=\"https://unsplash.com/?utm_source=NaturalLanguageImageSearch&utm_medium=referral\">Unsplash</a>"
            ]
          },
          "metadata": {}
        },
        {
          "output_type": "stream",
          "name": "stdout",
          "text": [
            "\n"
          ]
        },
        {
          "output_type": "display_data",
          "data": {
            "text/html": [
              "<img src=\"https://images.unsplash.com/photo-1445308124430-8357b98a6f71?w=640\"/>"
            ],
            "text/plain": [
              "<IPython.core.display.Image object>"
            ]
          },
          "metadata": {}
        },
        {
          "output_type": "display_data",
          "data": {
            "text/plain": [
              "<IPython.core.display.HTML object>"
            ],
            "text/html": [
              "Photo by <a href=\"https://unsplash.com/@Hiking The Mountains?utm_source=NaturalLanguageImageSearch&utm_medium=referral\">Zach Betten</a> on <a href=\"https://unsplash.com/?utm_source=NaturalLanguageImageSearch&utm_medium=referral\">Unsplash</a>"
            ]
          },
          "metadata": {}
        },
        {
          "output_type": "stream",
          "name": "stdout",
          "text": [
            "\n"
          ]
        },
        {
          "output_type": "display_data",
          "data": {
            "text/html": [
              "<img src=\"https://images.unsplash.com/photo-1441961497852-89a16db29005?w=640\"/>"
            ],
            "text/plain": [
              "<IPython.core.display.Image object>"
            ]
          },
          "metadata": {}
        },
        {
          "output_type": "display_data",
          "data": {
            "text/plain": [
              "<IPython.core.display.HTML object>"
            ],
            "text/html": [
              "Photo by <a href=\"https://unsplash.com/@nan?utm_source=NaturalLanguageImageSearch&utm_medium=referral\">Jeremy Cai</a> on <a href=\"https://unsplash.com/?utm_source=NaturalLanguageImageSearch&utm_medium=referral\">Unsplash</a>"
            ]
          },
          "metadata": {}
        },
        {
          "output_type": "stream",
          "name": "stdout",
          "text": [
            "\n"
          ]
        },
        {
          "output_type": "display_data",
          "data": {
            "text/html": [
              "<img src=\"https://images.unsplash.com/photo-1442095962062-cc576a28f7ef?w=640\"/>"
            ],
            "text/plain": [
              "<IPython.core.display.Image object>"
            ]
          },
          "metadata": {}
        },
        {
          "output_type": "display_data",
          "data": {
            "text/plain": [
              "<IPython.core.display.HTML object>"
            ],
            "text/html": [
              "Photo by <a href=\"https://unsplash.com/@Hiker on snow covered mountains in Similaun?utm_source=NaturalLanguageImageSearch&utm_medium=referral\">Helmut Liebelt</a> on <a href=\"https://unsplash.com/?utm_source=NaturalLanguageImageSearch&utm_medium=referral\">Unsplash</a>"
            ]
          },
          "metadata": {}
        },
        {
          "output_type": "stream",
          "name": "stdout",
          "text": [
            "\n"
          ]
        },
        {
          "output_type": "display_data",
          "data": {
            "text/html": [
              "<img src=\"https://images.unsplash.com/photo-1421990535576-b336c6b1c8a1?w=640\"/>"
            ],
            "text/plain": [
              "<IPython.core.display.Image object>"
            ]
          },
          "metadata": {}
        },
        {
          "output_type": "display_data",
          "data": {
            "text/plain": [
              "<IPython.core.display.HTML object>"
            ],
            "text/html": [
              "Photo by <a href=\"https://unsplash.com/@Sunset over beach?utm_source=NaturalLanguageImageSearch&utm_medium=referral\">Charlie Hang</a> on <a href=\"https://unsplash.com/?utm_source=NaturalLanguageImageSearch&utm_medium=referral\">Unsplash</a>"
            ]
          },
          "metadata": {}
        },
        {
          "output_type": "stream",
          "name": "stdout",
          "text": [
            "\n"
          ]
        },
        {
          "output_type": "display_data",
          "data": {
            "text/html": [
              "<img src=\"https://images.unsplash.com/photo-1442943861491-36a87a01e726?w=640\"/>"
            ],
            "text/plain": [
              "<IPython.core.display.Image object>"
            ]
          },
          "metadata": {}
        },
        {
          "output_type": "display_data",
          "data": {
            "text/plain": [
              "<IPython.core.display.HTML object>"
            ],
            "text/html": [
              "Photo by <a href=\"https://unsplash.com/@Farm Goats?utm_source=NaturalLanguageImageSearch&utm_medium=referral\">Jarren Simmons</a> on <a href=\"https://unsplash.com/?utm_source=NaturalLanguageImageSearch&utm_medium=referral\">Unsplash</a>"
            ]
          },
          "metadata": {}
        },
        {
          "output_type": "stream",
          "name": "stdout",
          "text": [
            "\n"
          ]
        },
        {
          "output_type": "display_data",
          "data": {
            "text/html": [
              "<img src=\"https://images.unsplash.com/photo-1430132594682-16e1185b17c5?w=640\"/>"
            ],
            "text/plain": [
              "<IPython.core.display.Image object>"
            ]
          },
          "metadata": {}
        },
        {
          "output_type": "display_data",
          "data": {
            "text/plain": [
              "<IPython.core.display.HTML object>"
            ],
            "text/html": [
              "Photo by <a href=\"https://unsplash.com/@nan?utm_source=NaturalLanguageImageSearch&utm_medium=referral\">Nelly Volkovich</a> on <a href=\"https://unsplash.com/?utm_source=NaturalLanguageImageSearch&utm_medium=referral\">Unsplash</a>"
            ]
          },
          "metadata": {}
        },
        {
          "output_type": "stream",
          "name": "stdout",
          "text": [
            "\n"
          ]
        },
        {
          "output_type": "display_data",
          "data": {
            "text/html": [
              "<img src=\"https://images.unsplash.com/photo-1439853849133-aaf5b7b5f55b?w=640\"/>"
            ],
            "text/plain": [
              "<IPython.core.display.Image object>"
            ]
          },
          "metadata": {}
        },
        {
          "output_type": "display_data",
          "data": {
            "text/plain": [
              "<IPython.core.display.HTML object>"
            ],
            "text/html": [
              "Photo by <a href=\"https://unsplash.com/@nan?utm_source=NaturalLanguageImageSearch&utm_medium=referral\">Daniel Roe</a> on <a href=\"https://unsplash.com/?utm_source=NaturalLanguageImageSearch&utm_medium=referral\">Unsplash</a>"
            ]
          },
          "metadata": {}
        },
        {
          "output_type": "stream",
          "name": "stdout",
          "text": [
            "\n"
          ]
        }
      ]
    },
    {
      "cell_type": "code",
      "source": [
        "# Function to display images in a grid\n",
        "def display_images_in_grid(df, num_images=9):\n",
        "    images_html = ''\n",
        "\n",
        "    for i in range(min(num_images, len(df))):\n",
        "        photo_data = df.iloc[i]\n",
        "        images_html += f'<img src=\"{photo_data[\"photo_image_url\"]}?w=200\" style=\"margin: 5px; width: 200px; height: 200px; object-fit: cover; border: 1px solid #ddd;\" alt=\"Photo ID: {photo_data[\"photo_id\"]}\">'\n",
        "\n",
        "    display(HTML(f'<div style=\"display: flex; flex-wrap: wrap;\">{images_html}</div>'))\n",
        "\n",
        "# Display the images in a grid view (6x6 grid in this case)\n",
        "display_images_in_grid(photos_df, num_images=72)"
      ],
      "metadata": {
        "colab": {
          "base_uri": "https://localhost:8080/",
          "height": 1000
        },
        "id": "O38r0xQzHeXq",
        "outputId": "318e0379-ec0d-4ca2-cbe1-bbf2924163ea"
      },
      "execution_count": 66,
      "outputs": [
        {
          "output_type": "display_data",
          "data": {
            "text/plain": [
              "<IPython.core.display.HTML object>"
            ],
            "text/html": [
              "<div style=\"display: flex; flex-wrap: wrap;\"><img src=\"https://images.unsplash.com/photo-1439246854758-f686a415d9da?w=200\" style=\"margin: 5px; width: 200px; height: 200px; object-fit: cover; border: 1px solid #ddd;\" alt=\"Photo ID: wud-eV6Vpwo\"><img src=\"https://images.unsplash.com/photo-1440773310993-8660d1577dcd?w=200\" style=\"margin: 5px; width: 200px; height: 200px; object-fit: cover; border: 1px solid #ddd;\" alt=\"Photo ID: psIMdj26lgw\"><img src=\"https://images.unsplash.com/photo-1446834898093-264bbb1bdcc9?w=200\" style=\"margin: 5px; width: 200px; height: 200px; object-fit: cover; border: 1px solid #ddd;\" alt=\"Photo ID: 2EDjes2hlZo\"><img src=\"https://images.unsplash.com/photo-1445308124430-8357b98a6f71?w=200\" style=\"margin: 5px; width: 200px; height: 200px; object-fit: cover; border: 1px solid #ddd;\" alt=\"Photo ID: WN8kSLy8KMQ\"><img src=\"https://images.unsplash.com/photo-1441961497852-89a16db29005?w=200\" style=\"margin: 5px; width: 200px; height: 200px; object-fit: cover; border: 1px solid #ddd;\" alt=\"Photo ID: QAXDmkU60OU\"><img src=\"https://images.unsplash.com/photo-1442095962062-cc576a28f7ef?w=200\" style=\"margin: 5px; width: 200px; height: 200px; object-fit: cover; border: 1px solid #ddd;\" alt=\"Photo ID: 9myQkSVGooM\"><img src=\"https://images.unsplash.com/photo-1421990535576-b336c6b1c8a1?w=200\" style=\"margin: 5px; width: 200px; height: 200px; object-fit: cover; border: 1px solid #ddd;\" alt=\"Photo ID: 5kSVDnCVLDg\"><img src=\"https://images.unsplash.com/photo-1442943861491-36a87a01e726?w=200\" style=\"margin: 5px; width: 200px; height: 200px; object-fit: cover; border: 1px solid #ddd;\" alt=\"Photo ID: bzzGg63bzAM\"><img src=\"https://images.unsplash.com/photo-1430132594682-16e1185b17c5?w=200\" style=\"margin: 5px; width: 200px; height: 200px; object-fit: cover; border: 1px solid #ddd;\" alt=\"Photo ID: ZSMgNjYrHRM\"><img src=\"https://images.unsplash.com/photo-1439853849133-aaf5b7b5f55b?w=200\" style=\"margin: 5px; width: 200px; height: 200px; object-fit: cover; border: 1px solid #ddd;\" alt=\"Photo ID: gSF9dHUVK_Y\"><img src=\"https://images.unsplash.com/photo-1440942574812-185bf7cf6c49?w=200\" style=\"margin: 5px; width: 200px; height: 200px; object-fit: cover; border: 1px solid #ddd;\" alt=\"Photo ID: oXUEUEVJgec\"><img src=\"https://images.unsplash.com/photo-1438185074000-4b84f7ffc075?w=200\" style=\"margin: 5px; width: 200px; height: 200px; object-fit: cover; border: 1px solid #ddd;\" alt=\"Photo ID: aeUAfC92R-0\"><img src=\"https://images.unsplash.com/26/australia.jpg?w=200\" style=\"margin: 5px; width: 200px; height: 200px; object-fit: cover; border: 1px solid #ddd;\" alt=\"Photo ID: wuHPFRWtDLI\"><img src=\"https://images.unsplash.com/photo-1448713551278-27e64beaa3fd?w=200\" style=\"margin: 5px; width: 200px; height: 200px; object-fit: cover; border: 1px solid #ddd;\" alt=\"Photo ID: 8fO08ukB24U\"><img src=\"https://images.unsplash.com/photo-1438129501245-af64ca2b270a?w=200\" style=\"margin: 5px; width: 200px; height: 200px; object-fit: cover; border: 1px solid #ddd;\" alt=\"Photo ID: NA0jD1Sg9WU\"><img src=\"https://images.unsplash.com/photo-1419293667059-7f9357d09013?w=200\" style=\"margin: 5px; width: 200px; height: 200px; object-fit: cover; border: 1px solid #ddd;\" alt=\"Photo ID: vCKl84jpaZM\"><img src=\"https://images.unsplash.com/photo-1451272994275-50b182fb2c70?w=200\" style=\"margin: 5px; width: 200px; height: 200px; object-fit: cover; border: 1px solid #ddd;\" alt=\"Photo ID: uKDn4RVsgFY\"><img src=\"https://images.unsplash.com/photo-1452480306336-ffdc85b78768?w=200\" style=\"margin: 5px; width: 200px; height: 200px; object-fit: cover; border: 1px solid #ddd;\" alt=\"Photo ID: if5drRE4OM0\"><img src=\"https://images.unsplash.com/photo-1433763484842-f9bca4a5b93f?w=200\" style=\"margin: 5px; width: 200px; height: 200px; object-fit: cover; border: 1px solid #ddd;\" alt=\"Photo ID: vVBRCRCWkbA\"><img src=\"https://images.unsplash.com/photo-1429552016556-fd6f7d9743e1?w=200\" style=\"margin: 5px; width: 200px; height: 200px; object-fit: cover; border: 1px solid #ddd;\" alt=\"Photo ID: giwAx_VavaI\"><img src=\"https://images.unsplash.com/photo-1428394527478-f01c05887d1f?w=200\" style=\"margin: 5px; width: 200px; height: 200px; object-fit: cover; border: 1px solid #ddd;\" alt=\"Photo ID: ka8WGEY2eZU\"><img src=\"https://images.unsplash.com/photo-1450655816589-5eea781dae8a?w=200\" style=\"margin: 5px; width: 200px; height: 200px; object-fit: cover; border: 1px solid #ddd;\" alt=\"Photo ID: PcX1Qc0hhwk\"><img src=\"https://images.unsplash.com/photo-1446840908685-30f3a9e727f9?w=200\" style=\"margin: 5px; width: 200px; height: 200px; object-fit: cover; border: 1px solid #ddd;\" alt=\"Photo ID: qcF0LfjJU78\"><img src=\"https://images.unsplash.com/photo-1451395599223-6349b929a180?w=200\" style=\"margin: 5px; width: 200px; height: 200px; object-fit: cover; border: 1px solid #ddd;\" alt=\"Photo ID: ZwMJhmceY8s\"><img src=\"https://images.unsplash.com/photo-1431683535750-2b9b2371efb7?w=200\" style=\"margin: 5px; width: 200px; height: 200px; object-fit: cover; border: 1px solid #ddd;\" alt=\"Photo ID: ywMwEYTlObQ\"><img src=\"https://images.unsplash.com/5/pier.JPG?w=200\" style=\"margin: 5px; width: 200px; height: 200px; object-fit: cover; border: 1px solid #ddd;\" alt=\"Photo ID: uDUiRS8YroY\"><img src=\"https://images.unsplash.com/reserve/hFL7t7P3SuwV8NZhfOqz_hello_sylwiabartyzel.jpg?w=200\" style=\"margin: 5px; width: 200px; height: 200px; object-fit: cover; border: 1px solid #ddd;\" alt=\"Photo ID: B20ZhpKFL5U\"><img src=\"https://images.unsplash.com/photo-1433030384060-b53fe066a835?w=200\" style=\"margin: 5px; width: 200px; height: 200px; object-fit: cover; border: 1px solid #ddd;\" alt=\"Photo ID: HJ33Vyevx6E\"><img src=\"https://images.unsplash.com/photo-1424136164161-9c851c61012f?w=200\" style=\"margin: 5px; width: 200px; height: 200px; object-fit: cover; border: 1px solid #ddd;\" alt=\"Photo ID: -RlCdcbhygo\"><img src=\"https://images.unsplash.com/photo-1445367986565-c73f84588095?w=200\" style=\"margin: 5px; width: 200px; height: 200px; object-fit: cover; border: 1px solid #ddd;\" alt=\"Photo ID: eQ4klIbz8Lc\"><img src=\"https://images.unsplash.com/photo-1447655513720-7da85ed1fa57?w=200\" style=\"margin: 5px; width: 200px; height: 200px; object-fit: cover; border: 1px solid #ddd;\" alt=\"Photo ID: 5qJ5muCuN-I\"><img src=\"https://images.unsplash.com/photo-1466943746581-80a02881f4c8?w=200\" style=\"margin: 5px; width: 200px; height: 200px; object-fit: cover; border: 1px solid #ddd;\" alt=\"Photo ID: 9CfHPa6YM4Y\"><img src=\"https://images.unsplash.com/photo-1451959082120-81e1dbec1d7a?w=200\" style=\"margin: 5px; width: 200px; height: 200px; object-fit: cover; border: 1px solid #ddd;\" alt=\"Photo ID: OIoDCgocMqM\"><img src=\"https://images.unsplash.com/photo-1476041026529-411f6ae1de3e?w=200\" style=\"margin: 5px; width: 200px; height: 200px; object-fit: cover; border: 1px solid #ddd;\" alt=\"Photo ID: 7wk0ja-DP_c\"><img src=\"https://images.unsplash.com/photo-1470771602397-a17d07357acc?w=200\" style=\"margin: 5px; width: 200px; height: 200px; object-fit: cover; border: 1px solid #ddd;\" alt=\"Photo ID: O1lz53oVK2M\"><img src=\"https://images.unsplash.com/photo-1470836047270-6c7c229fd74b?w=200\" style=\"margin: 5px; width: 200px; height: 200px; object-fit: cover; border: 1px solid #ddd;\" alt=\"Photo ID: bvpWQI8Xb0k\"><img src=\"https://images.unsplash.com/photo-1422452098470-722310d3ad74?w=200\" style=\"margin: 5px; width: 200px; height: 200px; object-fit: cover; border: 1px solid #ddd;\" alt=\"Photo ID: Wvas_uTO8wQ\"><img src=\"https://images.unsplash.com/photo-1429152937938-07b5f2828cdd?w=200\" style=\"margin: 5px; width: 200px; height: 200px; object-fit: cover; border: 1px solid #ddd;\" alt=\"Photo ID: 6WLGMivmV00\"><img src=\"https://images.unsplash.com/photo-1435566029824-9ff1216c5b11?w=200\" style=\"margin: 5px; width: 200px; height: 200px; object-fit: cover; border: 1px solid #ddd;\" alt=\"Photo ID: bMPm4BWtntk\"><img src=\"https://images.unsplash.com/photo-1423209086112-cf2c8acd502f?w=200\" style=\"margin: 5px; width: 200px; height: 200px; object-fit: cover; border: 1px solid #ddd;\" alt=\"Photo ID: Slh0Tx1MRNA\"><img src=\"https://images.unsplash.com/photo-1440500122534-703c6966f83d?w=200\" style=\"margin: 5px; width: 200px; height: 200px; object-fit: cover; border: 1px solid #ddd;\" alt=\"Photo ID: iVliB6Rsvvc\"><img src=\"https://images.unsplash.com/photo-1418874525809-bec95b9c4500?w=200\" style=\"margin: 5px; width: 200px; height: 200px; object-fit: cover; border: 1px solid #ddd;\" alt=\"Photo ID: OQWymBdj0Go\"><img src=\"https://images.unsplash.com/photo-1440130266107-787dd24d69d7?w=200\" style=\"margin: 5px; width: 200px; height: 200px; object-fit: cover; border: 1px solid #ddd;\" alt=\"Photo ID: 490pwyi-8bs\"><img src=\"https://images.unsplash.com/photo-1433492753406-04e6d7ed995c?w=200\" style=\"margin: 5px; width: 200px; height: 200px; object-fit: cover; border: 1px solid #ddd;\" alt=\"Photo ID: M4I_e5_z5Ww\"><img src=\"https://images.unsplash.com/photo-1436772275169-d8467f9d5aa5?w=200\" style=\"margin: 5px; width: 200px; height: 200px; object-fit: cover; border: 1px solid #ddd;\" alt=\"Photo ID: Et-TyYbzrY8\"><img src=\"https://images.unsplash.com/photo-1449027627419-e46b1154169d?w=200\" style=\"margin: 5px; width: 200px; height: 200px; object-fit: cover; border: 1px solid #ddd;\" alt=\"Photo ID: VcRbMldAFU8\"><img src=\"https://images.unsplash.com/20/green-beads.JPG?w=200\" style=\"margin: 5px; width: 200px; height: 200px; object-fit: cover; border: 1px solid #ddd;\" alt=\"Photo ID: pHM4a_RZSLE\"><img src=\"https://images.unsplash.com/photo-1451102070012-5ec12448f8c6?w=200\" style=\"margin: 5px; width: 200px; height: 200px; object-fit: cover; border: 1px solid #ddd;\" alt=\"Photo ID: SAcIANM1zgI\"><img src=\"https://images.unsplash.com/reserve/uvRBqDAfQfaGPJiI6lVS_R0001899.jpg?w=200\" style=\"margin: 5px; width: 200px; height: 200px; object-fit: cover; border: 1px solid #ddd;\" alt=\"Photo ID: VeKqfHaa3e4\"><img src=\"https://images.unsplash.com/photo-1426270238320-f944ef4ddb3f?w=200\" style=\"margin: 5px; width: 200px; height: 200px; object-fit: cover; border: 1px solid #ddd;\" alt=\"Photo ID: 2Fs6MBBeayk\"><img src=\"https://images.unsplash.com/reserve/3QmLwayvTci8Fb9mx6Sw__DSC0312.JPG?w=200\" style=\"margin: 5px; width: 200px; height: 200px; object-fit: cover; border: 1px solid #ddd;\" alt=\"Photo ID: ytwL9q4CIZk\"><img src=\"https://images.unsplash.com/uploads/141104078198192352262/c9aa631b?w=200\" style=\"margin: 5px; width: 200px; height: 200px; object-fit: cover; border: 1px solid #ddd;\" alt=\"Photo ID: xfqOqP0ydQI\"><img src=\"https://images.unsplash.com/photo-1433155327100-12aac6a14ff1?w=200\" style=\"margin: 5px; width: 200px; height: 200px; object-fit: cover; border: 1px solid #ddd;\" alt=\"Photo ID: b4SRwTQget8\"><img src=\"https://images.unsplash.com/photo-1464823265838-c29e2a106ef6?w=200\" style=\"margin: 5px; width: 200px; height: 200px; object-fit: cover; border: 1px solid #ddd;\" alt=\"Photo ID: 5YvHy6-O5bU\"><img src=\"https://images.unsplash.com/photo-1431223430019-7c33d109bf40?w=200\" style=\"margin: 5px; width: 200px; height: 200px; object-fit: cover; border: 1px solid #ddd;\" alt=\"Photo ID: HLfoA3_UwoY\"><img src=\"https://images.unsplash.com/photo-1447829171547-a5807f9e26d5?w=200\" style=\"margin: 5px; width: 200px; height: 200px; object-fit: cover; border: 1px solid #ddd;\" alt=\"Photo ID: zroxr0l3Tso\"><img src=\"https://images.unsplash.com/photo-1435002864064-ad5b71978e79?w=200\" style=\"margin: 5px; width: 200px; height: 200px; object-fit: cover; border: 1px solid #ddd;\" alt=\"Photo ID: KM1M0Kk4Xtg\"><img src=\"https://images.unsplash.com/photo-1449617540102-accfca509ef6?w=200\" style=\"margin: 5px; width: 200px; height: 200px; object-fit: cover; border: 1px solid #ddd;\" alt=\"Photo ID: a8r9V5ZG3Po\"><img src=\"https://images.unsplash.com/photo-1430936084646-158d26ba98ff?w=200\" style=\"margin: 5px; width: 200px; height: 200px; object-fit: cover; border: 1px solid #ddd;\" alt=\"Photo ID: SWF1n1Bzlg0\"><img src=\"https://images.unsplash.com/photo-1422728221357-57980993ea99?w=200\" style=\"margin: 5px; width: 200px; height: 200px; object-fit: cover; border: 1px solid #ddd;\" alt=\"Photo ID: ILz31HBGEak\"><img src=\"https://images.unsplash.com/photo-1424386883927-2078a32e5cfd?w=200\" style=\"margin: 5px; width: 200px; height: 200px; object-fit: cover; border: 1px solid #ddd;\" alt=\"Photo ID: ipdJIEMu9qE\"><img src=\"https://images.unsplash.com/photo-1435685813800-51ba4ceb9c4a?w=200\" style=\"margin: 5px; width: 200px; height: 200px; object-fit: cover; border: 1px solid #ddd;\" alt=\"Photo ID: 3sBnJqI8LXo\"><img src=\"https://images.unsplash.com/photo-1426760253677-88a3f201f5fe?w=200\" style=\"margin: 5px; width: 200px; height: 200px; object-fit: cover; border: 1px solid #ddd;\" alt=\"Photo ID: eonAf_JQFbI\"><img src=\"https://images.unsplash.com/7/salzburg-x.jpg?w=200\" style=\"margin: 5px; width: 200px; height: 200px; object-fit: cover; border: 1px solid #ddd;\" alt=\"Photo ID: zMz14hsbpuU\"><img src=\"https://images.unsplash.com/photo-1435568009252-48c5abc5dcae?w=200\" style=\"margin: 5px; width: 200px; height: 200px; object-fit: cover; border: 1px solid #ddd;\" alt=\"Photo ID: gYyX7h7fbAM\"><img src=\"https://images.unsplash.com/photo-1442071771157-ead3c45f708f?w=200\" style=\"margin: 5px; width: 200px; height: 200px; object-fit: cover; border: 1px solid #ddd;\" alt=\"Photo ID: PaZjj8jC-Tg\"><img src=\"https://images.unsplash.com/photo-1434600171728-fd0c9ba2efe9?w=200\" style=\"margin: 5px; width: 200px; height: 200px; object-fit: cover; border: 1px solid #ddd;\" alt=\"Photo ID: BXBUtRSCWxk\"><img src=\"https://images.unsplash.com/photo-1440605271345-b97ed0ef877f?w=200\" style=\"margin: 5px; width: 200px; height: 200px; object-fit: cover; border: 1px solid #ddd;\" alt=\"Photo ID: x5LRxIZ5Lqk\"><img src=\"https://images.unsplash.com/23/make-your-own-path.JPG?w=200\" style=\"margin: 5px; width: 200px; height: 200px; object-fit: cover; border: 1px solid #ddd;\" alt=\"Photo ID: 9702xTENR-M\"><img src=\"https://images.unsplash.com/photo-1444857697744-4691e1a0500e?w=200\" style=\"margin: 5px; width: 200px; height: 200px; object-fit: cover; border: 1px solid #ddd;\" alt=\"Photo ID: _gycpm2K900\"><img src=\"https://images.unsplash.com/photo-1421885661290-1b5a570626e9?w=200\" style=\"margin: 5px; width: 200px; height: 200px; object-fit: cover; border: 1px solid #ddd;\" alt=\"Photo ID: h_ovfsRi7pk\"><img src=\"https://images.unsplash.com/photo-1435782944608-71c88cf57a17?w=200\" style=\"margin: 5px; width: 200px; height: 200px; object-fit: cover; border: 1px solid #ddd;\" alt=\"Photo ID: IfsvDZBSeWc\"></div>"
            ]
          },
          "metadata": {}
        }
      ]
    }
  ]
}